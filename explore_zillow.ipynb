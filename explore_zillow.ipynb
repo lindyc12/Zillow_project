{
 "cells": [
  {
   "cell_type": "code",
   "execution_count": 1,
   "id": "869c1d49",
   "metadata": {},
   "outputs": [],
   "source": [
    "import numpy as np\n",
    "import pandas as pd\n",
    "import matplotlib.pyplot as plt\n",
    "from prepare_zillow import fill_nulls\n",
    "from prepare_zillow import wrangle_zillow\n",
    "from prepare_zillow import null_dropper\n",
    "from prepare_zillow import handle_outliers\n",
    "from prepare_zillow import rename_cols\n",
    "from prepare_zillow import dummy_var\n",
    "from prepare_zillow import home_age\n",
    "from sklearn.cluster import KMeans, DBSCAN\n",
    "from sklearn.preprocessing import MinMaxScaler\n",
    "from sklearn.neighbors import NearestNeighbors\n",
    "\n",
    "\n",
    "# default pandas decimal number display format\n",
    "pd.options.display.float_format = '{:20,.2f}'.format\n",
    "\n",
    "import warnings\n",
    "warnings.filterwarnings(\"ignore\")\n",
    "\n",
    "# Wrangling\n",
    "from sklearn.model_selection import train_test_split\n",
    "from env import host, user, password\n",
    "import acquire_zillow\n",
    "from functions import split"
   ]
  },
  {
   "cell_type": "code",
   "execution_count": 2,
   "id": "2838a71f",
   "metadata": {
    "scrolled": true
   },
   "outputs": [
    {
     "data": {
      "text/html": [
       "<div>\n",
       "<style scoped>\n",
       "    .dataframe tbody tr th:only-of-type {\n",
       "        vertical-align: middle;\n",
       "    }\n",
       "\n",
       "    .dataframe tbody tr th {\n",
       "        vertical-align: top;\n",
       "    }\n",
       "\n",
       "    .dataframe thead th {\n",
       "        text-align: right;\n",
       "    }\n",
       "</style>\n",
       "<table border=\"1\" class=\"dataframe\">\n",
       "  <thead>\n",
       "    <tr style=\"text-align: right;\">\n",
       "      <th></th>\n",
       "      <th>parcelid</th>\n",
       "      <th>airconditioningtypeid</th>\n",
       "      <th>architecturalstyletypeid</th>\n",
       "      <th>basementsqft</th>\n",
       "      <th>bathroomcnt</th>\n",
       "      <th>bedroomcnt</th>\n",
       "      <th>buildingclasstypeid</th>\n",
       "      <th>buildingqualitytypeid</th>\n",
       "      <th>calculatedbathnbr</th>\n",
       "      <th>decktypeid</th>\n",
       "      <th>...</th>\n",
       "      <th>censustractandblock</th>\n",
       "      <th>logerror</th>\n",
       "      <th>transactiondate</th>\n",
       "      <th>airconditioningdesc</th>\n",
       "      <th>architecturalstyledesc</th>\n",
       "      <th>buildingclassdesc</th>\n",
       "      <th>heatingorsystemdesc</th>\n",
       "      <th>propertylandusedesc</th>\n",
       "      <th>storydesc</th>\n",
       "      <th>typeconstructiondesc</th>\n",
       "    </tr>\n",
       "  </thead>\n",
       "  <tbody>\n",
       "    <tr>\n",
       "      <th>0</th>\n",
       "      <td>14297519</td>\n",
       "      <td>NaN</td>\n",
       "      <td>NaN</td>\n",
       "      <td>NaN</td>\n",
       "      <td>3.50</td>\n",
       "      <td>4.00</td>\n",
       "      <td>None</td>\n",
       "      <td>NaN</td>\n",
       "      <td>3.50</td>\n",
       "      <td>NaN</td>\n",
       "      <td>...</td>\n",
       "      <td>60,590,630,072,012.00</td>\n",
       "      <td>0.03</td>\n",
       "      <td>2017-01-01</td>\n",
       "      <td>None</td>\n",
       "      <td>None</td>\n",
       "      <td>None</td>\n",
       "      <td>None</td>\n",
       "      <td>Single Family Residential</td>\n",
       "      <td>None</td>\n",
       "      <td>None</td>\n",
       "    </tr>\n",
       "    <tr>\n",
       "      <th>1</th>\n",
       "      <td>17052889</td>\n",
       "      <td>NaN</td>\n",
       "      <td>NaN</td>\n",
       "      <td>NaN</td>\n",
       "      <td>1.00</td>\n",
       "      <td>2.00</td>\n",
       "      <td>None</td>\n",
       "      <td>NaN</td>\n",
       "      <td>1.00</td>\n",
       "      <td>NaN</td>\n",
       "      <td>...</td>\n",
       "      <td>61,110,010,023,006.00</td>\n",
       "      <td>0.06</td>\n",
       "      <td>2017-01-01</td>\n",
       "      <td>None</td>\n",
       "      <td>None</td>\n",
       "      <td>None</td>\n",
       "      <td>None</td>\n",
       "      <td>Single Family Residential</td>\n",
       "      <td>None</td>\n",
       "      <td>None</td>\n",
       "    </tr>\n",
       "    <tr>\n",
       "      <th>2</th>\n",
       "      <td>14186244</td>\n",
       "      <td>NaN</td>\n",
       "      <td>NaN</td>\n",
       "      <td>NaN</td>\n",
       "      <td>2.00</td>\n",
       "      <td>3.00</td>\n",
       "      <td>None</td>\n",
       "      <td>NaN</td>\n",
       "      <td>2.00</td>\n",
       "      <td>NaN</td>\n",
       "      <td>...</td>\n",
       "      <td>60,590,218,022,012.00</td>\n",
       "      <td>0.01</td>\n",
       "      <td>2017-01-01</td>\n",
       "      <td>None</td>\n",
       "      <td>None</td>\n",
       "      <td>None</td>\n",
       "      <td>None</td>\n",
       "      <td>Single Family Residential</td>\n",
       "      <td>None</td>\n",
       "      <td>None</td>\n",
       "    </tr>\n",
       "    <tr>\n",
       "      <th>3</th>\n",
       "      <td>12177905</td>\n",
       "      <td>NaN</td>\n",
       "      <td>NaN</td>\n",
       "      <td>NaN</td>\n",
       "      <td>3.00</td>\n",
       "      <td>4.00</td>\n",
       "      <td>None</td>\n",
       "      <td>8.00</td>\n",
       "      <td>3.00</td>\n",
       "      <td>NaN</td>\n",
       "      <td>...</td>\n",
       "      <td>60,373,001,001,006.00</td>\n",
       "      <td>-0.10</td>\n",
       "      <td>2017-01-01</td>\n",
       "      <td>None</td>\n",
       "      <td>None</td>\n",
       "      <td>None</td>\n",
       "      <td>Central</td>\n",
       "      <td>Single Family Residential</td>\n",
       "      <td>None</td>\n",
       "      <td>None</td>\n",
       "    </tr>\n",
       "    <tr>\n",
       "      <th>4</th>\n",
       "      <td>12095076</td>\n",
       "      <td>1.00</td>\n",
       "      <td>NaN</td>\n",
       "      <td>NaN</td>\n",
       "      <td>3.00</td>\n",
       "      <td>4.00</td>\n",
       "      <td>None</td>\n",
       "      <td>9.00</td>\n",
       "      <td>3.00</td>\n",
       "      <td>NaN</td>\n",
       "      <td>...</td>\n",
       "      <td>60,374,608,001,014.00</td>\n",
       "      <td>-0.00</td>\n",
       "      <td>2017-01-01</td>\n",
       "      <td>Central</td>\n",
       "      <td>None</td>\n",
       "      <td>None</td>\n",
       "      <td>Central</td>\n",
       "      <td>Single Family Residential</td>\n",
       "      <td>None</td>\n",
       "      <td>None</td>\n",
       "    </tr>\n",
       "  </tbody>\n",
       "</table>\n",
       "<p>5 rows × 67 columns</p>\n",
       "</div>"
      ],
      "text/plain": [
       "   parcelid  airconditioningtypeid  architecturalstyletypeid  basementsqft  \\\n",
       "0  14297519                    NaN                       NaN           NaN   \n",
       "1  17052889                    NaN                       NaN           NaN   \n",
       "2  14186244                    NaN                       NaN           NaN   \n",
       "3  12177905                    NaN                       NaN           NaN   \n",
       "4  12095076                   1.00                       NaN           NaN   \n",
       "\n",
       "           bathroomcnt           bedroomcnt buildingclasstypeid  \\\n",
       "0                 3.50                 4.00                None   \n",
       "1                 1.00                 2.00                None   \n",
       "2                 2.00                 3.00                None   \n",
       "3                 3.00                 4.00                None   \n",
       "4                 3.00                 4.00                None   \n",
       "\n",
       "   buildingqualitytypeid    calculatedbathnbr  decktypeid  ...  \\\n",
       "0                    NaN                 3.50         NaN  ...   \n",
       "1                    NaN                 1.00         NaN  ...   \n",
       "2                    NaN                 2.00         NaN  ...   \n",
       "3                   8.00                 3.00         NaN  ...   \n",
       "4                   9.00                 3.00         NaN  ...   \n",
       "\n",
       "    censustractandblock             logerror  transactiondate  \\\n",
       "0 60,590,630,072,012.00                 0.03       2017-01-01   \n",
       "1 61,110,010,023,006.00                 0.06       2017-01-01   \n",
       "2 60,590,218,022,012.00                 0.01       2017-01-01   \n",
       "3 60,373,001,001,006.00                -0.10       2017-01-01   \n",
       "4 60,374,608,001,014.00                -0.00       2017-01-01   \n",
       "\n",
       "  airconditioningdesc architecturalstyledesc  buildingclassdesc  \\\n",
       "0                None                   None               None   \n",
       "1                None                   None               None   \n",
       "2                None                   None               None   \n",
       "3                None                   None               None   \n",
       "4             Central                   None               None   \n",
       "\n",
       "   heatingorsystemdesc        propertylandusedesc  storydesc  \\\n",
       "0                 None  Single Family Residential       None   \n",
       "1                 None  Single Family Residential       None   \n",
       "2                 None  Single Family Residential       None   \n",
       "3              Central  Single Family Residential       None   \n",
       "4              Central  Single Family Residential       None   \n",
       "\n",
       "   typeconstructiondesc  \n",
       "0                  None  \n",
       "1                  None  \n",
       "2                  None  \n",
       "3                  None  \n",
       "4                  None  \n",
       "\n",
       "[5 rows x 67 columns]"
      ]
     },
     "execution_count": 2,
     "metadata": {},
     "output_type": "execute_result"
    }
   ],
   "source": [
    "df = acquire_zillow.get_zillow_data()\n",
    "df.head()"
   ]
  },
  {
   "cell_type": "code",
   "execution_count": null,
   "id": "3b5e8329",
   "metadata": {},
   "outputs": [],
   "source": [
    "df['county'] = np.where(df.fips == 6037, 'LA',\n",
    "                    np.where(df.fips == 6059, 'Orange', 'Ventura')) "
   ]
  },
  {
   "cell_type": "code",
   "execution_count": null,
   "id": "a27e6670",
   "metadata": {
    "scrolled": true
   },
   "outputs": [],
   "source": [
    "df = wrangle_zillow(df)\n",
    "df.head()"
   ]
  },
  {
   "cell_type": "code",
   "execution_count": null,
   "id": "2f323aef",
   "metadata": {},
   "outputs": [],
   "source": [
    "df.head()"
   ]
  },
  {
   "cell_type": "code",
   "execution_count": null,
   "id": "eb1ad880",
   "metadata": {},
   "outputs": [],
   "source": [
    "df_new = df.drop(columns = ['parcelid', 'tax_amount', 'sqft', 'year_built', 'fips', 'bed_bath',\n",
    "                                       'lot_size', 'regionidcity', 'regionidzip', 'property_desc', 'rawcensustractandblock',\n",
    "                                       'structuretaxvaluedollarcnt', 'censustractandblock', 'transaction_date', 'roomcnt', 'hashottuborspa', 'assessment_year', 'propertylandusetypeid', 'fullbathcnt']) \n",
    "\n"
   ]
  },
  {
   "cell_type": "code",
   "execution_count": null,
   "id": "4f71325f",
   "metadata": {},
   "outputs": [],
   "source": [
    "df_new.head()"
   ]
  },
  {
   "cell_type": "code",
   "execution_count": null,
   "id": "374b2d53",
   "metadata": {},
   "outputs": [],
   "source": [
    "df_new.isnull().sum()"
   ]
  },
  {
   "cell_type": "code",
   "execution_count": null,
   "id": "e9d07e4b",
   "metadata": {},
   "outputs": [],
   "source": [
    "df_new.columns"
   ]
  },
  {
   "cell_type": "markdown",
   "id": "68854ba9",
   "metadata": {},
   "source": [
    "split dataframe"
   ]
  },
  {
   "cell_type": "code",
   "execution_count": null,
   "id": "45605ca3",
   "metadata": {},
   "outputs": [],
   "source": [
    "train, X_train, X_validate, X_test, y_train, y_validate, y_test = split(df_new, target_var='logerror')\n"
   ]
  },
  {
   "cell_type": "code",
   "execution_count": null,
   "id": "eb7a84a1",
   "metadata": {},
   "outputs": [],
   "source": [
    "train.head()"
   ]
  },
  {
   "cell_type": "code",
   "execution_count": null,
   "id": "c4cd46c0",
   "metadata": {},
   "outputs": [],
   "source": [
    "trafig, axs = plt.subplots(1, 3, figsize=(15, 7))\n",
    "\n",
    "for ax, col in zip(axs, train.select_dtypes('number')):\n",
    "    train[col].plot.hist(ax=ax, title=col, ec='black')"
   ]
  },
  {
   "cell_type": "code",
   "execution_count": null,
   "id": "f213d802",
   "metadata": {
    "scrolled": true
   },
   "outputs": [],
   "source": [
    "import seaborn as sns\n",
    "# overall logerror distribution \n",
    "sns.distplot(df.logerror)\n",
    "plt.title('Log Error Distribution', fontsize=20)\n",
    "plt.xlabel('Log Error')\n",
    "\n",
    "plt.show()"
   ]
  },
  {
   "cell_type": "markdown",
   "id": "127d212d",
   "metadata": {},
   "source": [
    "log error looks normally distributed "
   ]
  },
  {
   "cell_type": "code",
   "execution_count": null,
   "id": "4d68e6ba",
   "metadata": {},
   "outputs": [],
   "source": [
    "\n",
    "plt.figure(figsize=(14, 10))\n",
    "sns.heatmap(train.corr(), cmap='Greens', annot=True)\n",
    "plt.title('Correlation Heatmap of All Features Including the Target', fontsize=20)\n",
    "plt.show()"
   ]
  },
  {
   "cell_type": "code",
   "execution_count": null,
   "id": "b55406e3",
   "metadata": {},
   "outputs": [],
   "source": [
    "plt.figure(figsize=(14,8))\n",
    "with sns.color_palette('Blues'):\n",
    "    sns.barplot(x='bathroom', y='logerror', data=train)\n",
    "plt.xlabel('Bathroom Count')\n",
    "plt.ylabel('Log Error')\n",
    "plt.title('Does bathroom count impact log error?')\n",
    "plt.show()"
   ]
  },
  {
   "cell_type": "markdown",
   "id": "2dc0d985",
   "metadata": {},
   "source": [
    "homes with smaller bathroom count tend to have smaller log error "
   ]
  },
  {
   "cell_type": "code",
   "execution_count": null,
   "id": "0adc5ad2",
   "metadata": {},
   "outputs": [],
   "source": [
    "plt.figure(figsize=(14,8))\n",
    "with sns.color_palette(\"Blues\"):\n",
    "    sns.barplot(x='bedroom', y='logerror', data=train)\n",
    "plt.xlabel('Bedroom Count')\n",
    "plt.ylabel('Log Error')\n",
    "plt.title('Does bedroom count impact log error?')\n",
    "plt.show()"
   ]
  },
  {
   "cell_type": "markdown",
   "id": "0bb2a6b5",
   "metadata": {},
   "source": [
    "bedroom shows an increase in log error at higher counts "
   ]
  },
  {
   "cell_type": "code",
   "execution_count": null,
   "id": "e9f116c6",
   "metadata": {},
   "outputs": [],
   "source": [
    "train.head()"
   ]
  },
  {
   "cell_type": "code",
   "execution_count": null,
   "id": "d2798cc6",
   "metadata": {},
   "outputs": [],
   "source": [
    "plt.figure(figsize=(14,8))\n",
    "sns.scatterplot(x='finished_sqft', y='logerror', data=train, alpha=.4)\n",
    "plt.xlabel('Finished Square Feet')\n",
    "plt.ylabel('Log Error')\n",
    "plt.title('Does sqft of a home impact log error?')\n",
    "plt.show()"
   ]
  },
  {
   "cell_type": "code",
   "execution_count": null,
   "id": "31dd340e",
   "metadata": {},
   "outputs": [],
   "source": [
    "plt.scatter(train.logerror,train.home_value)\n",
    "plt.xlabel('Logerror')\n",
    "plt.ylabel('Home Value')\n",
    "plt.title('Logerror vs Home Value')"
   ]
  },
  {
   "cell_type": "markdown",
   "id": "6b0e53db",
   "metadata": {},
   "source": [
    "Does county have have an effect on logerror?"
   ]
  },
  {
   "cell_type": "code",
   "execution_count": null,
   "id": "c9dfabd4",
   "metadata": {},
   "outputs": [],
   "source": [
    "sns.barplot(x='county', y='logerror', data=df)"
   ]
  },
  {
   "cell_type": "code",
   "execution_count": null,
   "id": "f553e9ff",
   "metadata": {},
   "outputs": [],
   "source": [
    "from scipy import stats\n",
    "alpha = 0.05\n",
    "# ANOVA test between the counties\n",
    "f_county, p_county = stats.f_oneway(train[train['county'] == 'Los_Angeles'].logerror,\n",
    "                                    train[train['county'] == 'Orange_county'].logerror,\n",
    "                                    train[train['county'] == 'Ventura_county'].logerror)\n",
    "\n",
    "f_county, p_county"
   ]
  },
  {
   "cell_type": "code",
   "execution_count": null,
   "id": "c30df7c7",
   "metadata": {},
   "outputs": [],
   "source": [
    "if p_county < alpha:\n",
    "    print('We reject the null hypothesis.')\n",
    "else:\n",
    "    print('We fail to reject the null hypothesis.')"
   ]
  },
  {
   "cell_type": "markdown",
   "id": "6c0ee26f",
   "metadata": {},
   "source": [
    "county does affect logerror"
   ]
  },
  {
   "cell_type": "code",
   "execution_count": null,
   "id": "ea601371",
   "metadata": {},
   "outputs": [],
   "source": [
    "train.head()"
   ]
  },
  {
   "cell_type": "code",
   "execution_count": null,
   "id": "e5d1cdad",
   "metadata": {},
   "outputs": [],
   "source": [
    "sns.barplot(x='county', y='age', data=df)"
   ]
  },
  {
   "cell_type": "code",
   "execution_count": null,
   "id": "c1fb2e6e",
   "metadata": {},
   "outputs": [],
   "source": [
    "x = train.bedroom\n",
    "y = train.bathroom\n",
    "\n",
    "alternative_hypothesis = 'bedroom count is related to bathroom count'\n",
    "\n",
    "corr, p = stats.pearsonr(x, y)\n",
    "\n",
    "corr, p\n",
    "\n",
    "if p < alpha:\n",
    "    print(\"We reject the null hypothesis\")\n",
    "    print(\"We can say that\", alternative_hypothesis)\n",
    "else:\n",
    "    print(\"We fail to reject the null\")"
   ]
  },
  {
   "cell_type": "code",
   "execution_count": null,
   "id": "66936358",
   "metadata": {},
   "outputs": [],
   "source": [
    "x = train.home_value\n",
    "y = train.logerror\n",
    "\n",
    "alternative_hypothesis = 'house value is related to logerror'\n",
    "\n",
    "corr, p = stats.pearsonr(x, y)\n",
    "\n",
    "corr, p\n",
    "\n",
    "if p < alpha:\n",
    "    print(\"We reject the null hypothesis\")\n",
    "    print(\"We can say that\", alternative_hypothesis)\n",
    "else:\n",
    "    print(\"We fail to reject the null\")\n",
    "    \n",
    "p"
   ]
  },
  {
   "cell_type": "code",
   "execution_count": null,
   "id": "06d1ea6e",
   "metadata": {},
   "outputs": [],
   "source": [
    "train.info()"
   ]
  },
  {
   "cell_type": "code",
   "execution_count": null,
   "id": "9e5ad4eb",
   "metadata": {},
   "outputs": [],
   "source": [
    "train.shape"
   ]
  },
  {
   "cell_type": "code",
   "execution_count": null,
   "id": "4dcbebd4",
   "metadata": {},
   "outputs": [],
   "source": [
    "# scale data\n",
    "\n",
    "scaler = MinMaxScaler()\n",
    "\n",
    "scaler.fit(train)\n",
    "\n",
    "train_scaled = scaler.transform(train)\n",
    "validate_scaled = scaler.transform(validate)\n",
    "test_scaled = scaler.transform(test)\n",
    "\n",
    "train_scaled"
   ]
  },
  {
   "cell_type": "code",
   "execution_count": null,
   "id": "e3a2f2f5",
   "metadata": {},
   "outputs": [],
   "source": []
  }
 ],
 "metadata": {
  "kernelspec": {
   "display_name": "Python 3 (ipykernel)",
   "language": "python",
   "name": "python3"
  },
  "language_info": {
   "codemirror_mode": {
    "name": "ipython",
    "version": 3
   },
   "file_extension": ".py",
   "mimetype": "text/x-python",
   "name": "python",
   "nbconvert_exporter": "python",
   "pygments_lexer": "ipython3",
   "version": "3.9.12"
  }
 },
 "nbformat": 4,
 "nbformat_minor": 5
}
