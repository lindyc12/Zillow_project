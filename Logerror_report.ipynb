{
 "cells": [
  {
   "cell_type": "markdown",
   "id": "1c109871",
   "metadata": {},
   "source": [
    "## Zillow logerror\n",
    "#### Lindy Castellaw 8/9/2022\n",
    "\n",
    "This project will use clustering to find the drivers of error in the Zestimate of single-unit properties that were listed on Zillow in 2017. The goal of the models is to improve the Zestimate residual error.\n",
    "\n",
    "##### logerror = log(Zestimate) − log(SalePrice)"
   ]
  },
  {
   "cell_type": "code",
   "execution_count": 1,
   "id": "a47fa9b3",
   "metadata": {},
   "outputs": [],
   "source": [
    "import numpy as np\n",
    "import pandas as pd\n",
    "import seaborn as sns\n",
    "import matplotlib.pyplot as plt\n",
    "from prepare_zillow import wrangle_zillow\n",
    "from sklearn.cluster import KMeans, DBSCAN\n",
    "from sklearn.preprocessing import MinMaxScaler\n",
    "from sklearn.neighbors import NearestNeighbors\n",
    "pd.options.display.float_format = '{:20,.2f}'.format\n",
    "import warnings\n",
    "warnings.filterwarnings(\"ignore\")\n",
    "from sklearn.model_selection import train_test_split\n",
    "from env import host, user, password\n",
    "import acquire_zillow\n",
    "from functions import split, scaled_data \n",
    "import scipy.stats as stats\n",
    "from sklearn.metrics import mean_squared_error, r2_score, explained_variance_score\n",
    "from sklearn.linear_model import LinearRegression\n",
    "from sklearn.feature_selection import RFE\n",
    "from sklearn.feature_selection import SelectKBest, RFE, f_regression \n",
    "from sklearn.ensemble import RandomForestRegressor\n",
    "from sklearn.tree import DecisionTreeRegressor"
   ]
  },
  {
   "cell_type": "markdown",
   "id": "2be886da",
   "metadata": {},
   "source": [
    "## Acquire\n",
    "\n",
    "Acquire data from get_zillow_data that pulls the information we need from SQL."
   ]
  },
  {
   "cell_type": "code",
   "execution_count": 2,
   "id": "499acee0",
   "metadata": {},
   "outputs": [],
   "source": [
    "df = acquire_zillow.get_zillow_data()"
   ]
  },
  {
   "cell_type": "markdown",
   "id": "d3cf7b0d",
   "metadata": {},
   "source": [
    "## Wrangle\n",
    "\n",
    "- Handle outliers\n",
    "\n",
    "- Convert dtypes\n",
    "\n",
    "- Rename and Bin columns\n",
    "\n",
    "- Make dummies"
   ]
  },
  {
   "cell_type": "code",
   "execution_count": 3,
   "id": "7b00988e",
   "metadata": {},
   "outputs": [
    {
     "data": {
      "text/html": [
       "<div>\n",
       "<style scoped>\n",
       "    .dataframe tbody tr th:only-of-type {\n",
       "        vertical-align: middle;\n",
       "    }\n",
       "\n",
       "    .dataframe tbody tr th {\n",
       "        vertical-align: top;\n",
       "    }\n",
       "\n",
       "    .dataframe thead th {\n",
       "        text-align: right;\n",
       "    }\n",
       "</style>\n",
       "<table border=\"1\" class=\"dataframe\">\n",
       "  <thead>\n",
       "    <tr style=\"text-align: right;\">\n",
       "      <th></th>\n",
       "      <th>parcelid</th>\n",
       "      <th>bathroom</th>\n",
       "      <th>bedroom</th>\n",
       "      <th>bed_bath</th>\n",
       "      <th>sqft</th>\n",
       "      <th>finished_sqft</th>\n",
       "      <th>fips</th>\n",
       "      <th>fullbathcnt</th>\n",
       "      <th>garage</th>\n",
       "      <th>hashottuborspa</th>\n",
       "      <th>...</th>\n",
       "      <th>age_bin</th>\n",
       "      <th>acres</th>\n",
       "      <th>acres_bin</th>\n",
       "      <th>dollar_per_sqft</th>\n",
       "      <th>cola</th>\n",
       "      <th>county</th>\n",
       "      <th>has_pool</th>\n",
       "      <th>garage</th>\n",
       "      <th>county_Orange</th>\n",
       "      <th>county_Ventura</th>\n",
       "    </tr>\n",
       "  </thead>\n",
       "  <tbody>\n",
       "    <tr>\n",
       "      <th>0</th>\n",
       "      <td>14297519</td>\n",
       "      <td>3.50</td>\n",
       "      <td>4.00</td>\n",
       "      <td>3.50</td>\n",
       "      <td>3,100.00</td>\n",
       "      <td>3,100.00</td>\n",
       "      <td>6059</td>\n",
       "      <td>3.00</td>\n",
       "      <td>2.00</td>\n",
       "      <td>0.00</td>\n",
       "      <td>...</td>\n",
       "      <td>10-20</td>\n",
       "      <td>0.10</td>\n",
       "      <td>0.10</td>\n",
       "      <td>156.68</td>\n",
       "      <td>0</td>\n",
       "      <td>Orange</td>\n",
       "      <td>0.00</td>\n",
       "      <td>2.00</td>\n",
       "      <td>1</td>\n",
       "      <td>0</td>\n",
       "    </tr>\n",
       "    <tr>\n",
       "      <th>1</th>\n",
       "      <td>17052889</td>\n",
       "      <td>1.00</td>\n",
       "      <td>2.00</td>\n",
       "      <td>1.00</td>\n",
       "      <td>1,465.00</td>\n",
       "      <td>1,465.00</td>\n",
       "      <td>6111</td>\n",
       "      <td>1.00</td>\n",
       "      <td>1.00</td>\n",
       "      <td>0.00</td>\n",
       "      <td>...</td>\n",
       "      <td>40-50</td>\n",
       "      <td>0.29</td>\n",
       "      <td>0.30</td>\n",
       "      <td>60.07</td>\n",
       "      <td>0</td>\n",
       "      <td>Ventura</td>\n",
       "      <td>0.00</td>\n",
       "      <td>1.00</td>\n",
       "      <td>0</td>\n",
       "      <td>1</td>\n",
       "    </tr>\n",
       "    <tr>\n",
       "      <th>2</th>\n",
       "      <td>14186244</td>\n",
       "      <td>2.00</td>\n",
       "      <td>3.00</td>\n",
       "      <td>2.00</td>\n",
       "      <td>1,243.00</td>\n",
       "      <td>1,243.00</td>\n",
       "      <td>6059</td>\n",
       "      <td>2.00</td>\n",
       "      <td>2.00</td>\n",
       "      <td>0.00</td>\n",
       "      <td>...</td>\n",
       "      <td>50-60</td>\n",
       "      <td>0.19</td>\n",
       "      <td>0.20</td>\n",
       "      <td>68.62</td>\n",
       "      <td>0</td>\n",
       "      <td>Orange</td>\n",
       "      <td>1.00</td>\n",
       "      <td>2.00</td>\n",
       "      <td>1</td>\n",
       "      <td>0</td>\n",
       "    </tr>\n",
       "    <tr>\n",
       "      <th>3</th>\n",
       "      <td>12177905</td>\n",
       "      <td>3.00</td>\n",
       "      <td>4.00</td>\n",
       "      <td>3.00</td>\n",
       "      <td>2,376.00</td>\n",
       "      <td>2,376.00</td>\n",
       "      <td>6037</td>\n",
       "      <td>3.00</td>\n",
       "      <td>0.00</td>\n",
       "      <td>0.00</td>\n",
       "      <td>...</td>\n",
       "      <td>40-50</td>\n",
       "      <td>0.30</td>\n",
       "      <td>0.30</td>\n",
       "      <td>45.84</td>\n",
       "      <td>0</td>\n",
       "      <td>LA</td>\n",
       "      <td>1.00</td>\n",
       "      <td>0.00</td>\n",
       "      <td>0</td>\n",
       "      <td>0</td>\n",
       "    </tr>\n",
       "    <tr>\n",
       "      <th>4</th>\n",
       "      <td>12095076</td>\n",
       "      <td>3.00</td>\n",
       "      <td>4.00</td>\n",
       "      <td>3.00</td>\n",
       "      <td>2,962.00</td>\n",
       "      <td>2,962.00</td>\n",
       "      <td>6037</td>\n",
       "      <td>3.00</td>\n",
       "      <td>0.00</td>\n",
       "      <td>0.00</td>\n",
       "      <td>...</td>\n",
       "      <td>60-70</td>\n",
       "      <td>1.45</td>\n",
       "      <td>0.50</td>\n",
       "      <td>93.41</td>\n",
       "      <td>0</td>\n",
       "      <td>LA</td>\n",
       "      <td>1.00</td>\n",
       "      <td>0.00</td>\n",
       "      <td>0</td>\n",
       "      <td>0</td>\n",
       "    </tr>\n",
       "  </tbody>\n",
       "</table>\n",
       "<p>5 rows × 43 columns</p>\n",
       "</div>"
      ],
      "text/plain": [
       "   parcelid             bathroom              bedroom             bed_bath  \\\n",
       "0  14297519                 3.50                 4.00                 3.50   \n",
       "1  17052889                 1.00                 2.00                 1.00   \n",
       "2  14186244                 2.00                 3.00                 2.00   \n",
       "3  12177905                 3.00                 4.00                 3.00   \n",
       "4  12095076                 3.00                 4.00                 3.00   \n",
       "\n",
       "                  sqft        finished_sqft  fips          fullbathcnt  \\\n",
       "0             3,100.00             3,100.00  6059                 3.00   \n",
       "1             1,465.00             1,465.00  6111                 1.00   \n",
       "2             1,243.00             1,243.00  6059                 2.00   \n",
       "3             2,376.00             2,376.00  6037                 3.00   \n",
       "4             2,962.00             2,962.00  6037                 3.00   \n",
       "\n",
       "                garage       hashottuborspa  ...  age_bin  \\\n",
       "0                 2.00                 0.00  ...    10-20   \n",
       "1                 1.00                 0.00  ...    40-50   \n",
       "2                 2.00                 0.00  ...    50-60   \n",
       "3                 0.00                 0.00  ...    40-50   \n",
       "4                 0.00                 0.00  ...    60-70   \n",
       "\n",
       "                 acres            acres_bin      dollar_per_sqft cola  \\\n",
       "0                 0.10                 0.10               156.68    0   \n",
       "1                 0.29                 0.30                60.07    0   \n",
       "2                 0.19                 0.20                68.62    0   \n",
       "3                 0.30                 0.30                45.84    0   \n",
       "4                 1.45                 0.50                93.41    0   \n",
       "\n",
       "    county             has_pool               garage  county_Orange  \\\n",
       "0   Orange                 0.00                 2.00              1   \n",
       "1  Ventura                 0.00                 1.00              0   \n",
       "2   Orange                 1.00                 2.00              1   \n",
       "3       LA                 1.00                 0.00              0   \n",
       "4       LA                 1.00                 0.00              0   \n",
       "\n",
       "   county_Ventura  \n",
       "0               0  \n",
       "1               1  \n",
       "2               0  \n",
       "3               0  \n",
       "4               0  \n",
       "\n",
       "[5 rows x 43 columns]"
      ]
     },
     "execution_count": 3,
     "metadata": {},
     "output_type": "execute_result"
    }
   ],
   "source": [
    "df = wrangle_zillow(df)\n",
    "df.head() # look at top 5 in df"
   ]
  },
  {
   "cell_type": "code",
   "execution_count": 4,
   "id": "5ab8a6e6",
   "metadata": {},
   "outputs": [],
   "source": [
    "# drop columns\n",
    "df = df.drop(columns = ['parcelid', 'sqft', 'year_built', 'fips', 'bed_bath', 'propertycountylandusecode', 'county', 'age_bin',\n",
    "                                       'lot_size', 'regionidzip', 'property_desc', 'rawcensustractandblock', 'regionidcity', 'regionidcounty',\n",
    "                                       'structuretaxvaluedollarcnt', 'censustractandblock', 'transaction_date', 'roomcnt', 'hashottuborspa', 'assessment_year', 'propertylandusetypeid', 'fullbathcnt']) \n"
   ]
  },
  {
   "cell_type": "code",
   "execution_count": 5,
   "id": "8160e268",
   "metadata": {},
   "outputs": [],
   "source": [
    "# fill nulls \n",
    "df.fillna(value = 0,\n",
    "          inplace = True)"
   ]
  },
  {
   "cell_type": "code",
   "execution_count": 6,
   "id": "58ebd1c3",
   "metadata": {},
   "outputs": [],
   "source": [
    "# split data\n",
    "train, X_train, X_validate, X_test, y_train, y_validate, y_test = split(df, stratify_by='logerror')"
   ]
  },
  {
   "cell_type": "markdown",
   "id": "b6dc4145",
   "metadata": {},
   "source": [
    "There are large amount of nulls still that we need to fill. Acquired and preped data and filled any remaining nulls then split data into train, validate and test. Once the data is split we cane explore on train."
   ]
  },
  {
   "cell_type": "markdown",
   "id": "a88eeade",
   "metadata": {},
   "source": [
    "## Explore"
   ]
  },
  {
   "cell_type": "code",
   "execution_count": 7,
   "id": "09b76024",
   "metadata": {},
   "outputs": [
    {
     "data": {
      "image/png": "[encoded data removed]",
      "text/plain": [
       "<Figure size 432x288 with 1 Axes>"
      ]
     },
     "metadata": {
      "needs_background": "light"
     },
     "output_type": "display_data"
    }
   ],
   "source": [
    "# overall logerror distribution \n",
    "sns.distplot(train.logerror)\n",
    "plt.title('Log Error Distribution', fontsize=20)\n",
    "plt.xlabel('Log Error')\n",
    "\n",
    "plt.show()"
   ]
  },
  {
   "cell_type": "code",
   "execution_count": null,
   "id": "35f4bba5",
   "metadata": {
    "scrolled": true
   },
   "outputs": [],
   "source": [
    "plt.figure(figsize=(14,8))\n",
    "sns.scatterplot(x='age', y='logerror', data=train, alpha=.4)\n",
    "plt.xlabel('Home age')\n",
    "plt.ylabel('Log Error')\n",
    "plt.title('Does age of a home impact log error?')\n",
    "plt.show()"
   ]
  },
  {
   "cell_type": "code",
   "execution_count": null,
   "id": "c2348928",
   "metadata": {
    "scrolled": true
   },
   "outputs": [],
   "source": [
    "plt.scatter(train.logerror,train.home_value)\n",
    "plt.xlabel('Logerror')\n",
    "plt.ylabel('Home Value')\n",
    "plt.title('Logerror vs Home Value')"
   ]
  },
  {
   "cell_type": "markdown",
   "id": "882aa9bf",
   "metadata": {},
   "source": [
    "Logerror has a normal distribution but not necessarily linearly correlated with home_value, also we can see that there is one for finished sqft\n"
   ]
  },
  {
   "cell_type": "markdown",
   "id": "b5e504e0",
   "metadata": {},
   "source": [
    "## Testing"
   ]
  },
  {
   "cell_type": "markdown",
   "id": "e23c71cb",
   "metadata": {},
   "source": [
    "We used pearsonr test on home_value and home age with an alpha of 0.05. We were able to reject the null for age with a P value of .01, they do have a relationship. We failed to reject the null for home value and though they do not have a linear relationship they do seem to have some sort of relationship, so we will use both for modeling."
   ]
  },
  {
   "cell_type": "markdown",
   "id": "945f9b3b",
   "metadata": {},
   "source": [
    "#### 𝐻o : Overall home value has no effect on logerror\n",
    "#### 𝐻𝑎 : Over home value does have an effect on logerror"
   ]
  },
  {
   "cell_type": "code",
   "execution_count": null,
   "id": "b29c9ed9",
   "metadata": {},
   "outputs": [],
   "source": [
    "x = train.home_value\n",
    "y = train.logerror\n",
    "alpha = 0.05\n",
    "alternative_hypothesis = 'house value is related to logerror'\n",
    "\n",
    "corr, p = stats.pearsonr(x, y)\n",
    "\n",
    "corr, p\n",
    "\n",
    "if p < alpha:\n",
    "    print(\"We reject the null hypothesis that there is no effect\")\n",
    "else:\n",
    "    print(\"We fail to reject the null\")\n",
    "    \n",
    "p"
   ]
  },
  {
   "cell_type": "markdown",
   "id": "23506b83",
   "metadata": {},
   "source": [
    "#### 𝐻o : There is no difference in median log error in properties built in different years\n",
    "#### 𝐻𝑎 : Property age affects median log error"
   ]
  },
  {
   "cell_type": "code",
   "execution_count": null,
   "id": "9e4348f2",
   "metadata": {},
   "outputs": [],
   "source": [
    "\n",
    "x = train.age\n",
    "y = train.logerror\n",
    "\n",
    "r, p = stats.pearsonr(x,y)\n",
    "\n",
    "\n",
    "if p < alpha:\n",
    "    print(\"We reject the null hypothesis that there is no difference in log error based on a home's age.\")\n",
    "else:\n",
    "    print(\"We fail to reject the null hypothesis\")\n",
    "    \n",
    "p"
   ]
  },
  {
   "cell_type": "markdown",
   "id": "be2188bc",
   "metadata": {},
   "source": [
    "## Clustering "
   ]
  },
  {
   "cell_type": "markdown",
   "id": "2b759d1d",
   "metadata": {},
   "source": [
    "We will be clustering three different groups:\n",
    "\n",
    "- Physical features: Latitude, Longitude, Acres, Sqft, Cola\n",
    "\n",
    "- Age, Acres_bin, dollar_per_sqft\n",
    "\n",
    "- Tax: home_value, land_tax, taxrate\n",
    "\n",
    "First scale the date using MinMax then constructed several clusters of these features. The elbow meathod was used to find what would be best for K. SelectKBest was fitted to the different features."
   ]
  },
  {
   "cell_type": "code",
   "execution_count": 8,
   "id": "eb460ae7",
   "metadata": {},
   "outputs": [],
   "source": [
    "# Make the scaler\n",
    "scaler = MinMaxScaler()\n",
    "\n",
    "# Fit the scaler\n",
    "scaler.fit(X_train)\n",
    "\n",
    "# Use the scaler\n",
    "X_train_scaled = pd.DataFrame(scaler.transform(X_train), columns=X_train.columns)\n",
    "X_validate_scaled = pd.DataFrame(scaler.transform(X_validate), columns=X_train.columns)\n",
    "X_test_scaled = pd.DataFrame(scaler.transform(X_test), columns=X_train.columns)\n",
    "y_train = pd.DataFrame(y_train)\n",
    "y_validate = pd.DataFrame(y_validate)\n",
    "y_test = pd.DataFrame(y_test)"
   ]
  },
  {
   "cell_type": "code",
   "execution_count": 9,
   "id": "38495f1e",
   "metadata": {},
   "outputs": [
    {
     "data": {
      "image/png": "[encoded data removed]",
      "text/plain": [
       "<Figure size 648x432 with 1 Axes>"
      ]
     },
     "metadata": {},
     "output_type": "display_data"
    }
   ],
   "source": [
    "with plt.style.context('seaborn-whitegrid'):\n",
    "    plt.figure(figsize=(9, 6))\n",
    "    pd.Series({k: KMeans(k).fit(X_train_scaled).inertia_ for k in range(2, 12)}).plot(marker='x')\n",
    "    plt.xticks(range(2, 12))\n",
    "    plt.xlabel('k')\n",
    "    plt.ylabel('inertia')\n",
    "    plt.title('Change in inertia as k increases')"
   ]
  },
  {
   "cell_type": "markdown",
   "id": "257fcdb6",
   "metadata": {},
   "source": [
    "By using the Elbow meathod I will be using 3 as K."
   ]
  },
  {
   "cell_type": "markdown",
   "id": "e348fc0f",
   "metadata": {},
   "source": [
    "Cluster 1\n",
    "\n",
    "The higher the land tax the lower the logerror and there is drasticly more the lower the tax."
   ]
  },
  {
   "cell_type": "code",
   "execution_count": 10,
   "id": "d2daa11a",
   "metadata": {},
   "outputs": [
    {
     "data": {
      "text/plain": [
       "array([0, 0, 1, ..., 2, 0, 0], dtype=int32)"
      ]
     },
     "execution_count": 10,
     "metadata": {},
     "output_type": "execute_result"
    }
   ],
   "source": [
    "X1 = X_train_scaled[['home_value', 'land_tax', 'taxrate']]\n",
    "X2 = X_validate_scaled[['home_value', 'land_tax', 'taxrate']]\n",
    "X3 = X_test_scaled[['home_value', 'land_tax', 'taxrate']]\n",
    "# Make the kmeans object\n",
    "kmeans = KMeans(n_clusters=3)\n",
    "# fit the kmeans model\n",
    "kmeans.fit(X1)\n",
    "kmeans.predict(X1)"
   ]
  },
  {
   "cell_type": "code",
   "execution_count": 11,
   "id": "72c91238",
   "metadata": {},
   "outputs": [],
   "source": [
    "X_train_scaled['cluster_tax'] = kmeans.predict(X1)\n",
    "X_validate_scaled['cluster_tax'] = kmeans.predict(X2)\n",
    "X_test_scaled['cluster_tax'] = kmeans.predict(X3)"
   ]
  },
  {
   "cell_type": "code",
   "execution_count": 15,
   "id": "fdcfa271",
   "metadata": {},
   "outputs": [
    {
     "data": {
      "text/plain": [
       "<seaborn.axisgrid.FacetGrid at 0x7fc98553d940>"
      ]
     },
     "execution_count": 15,
     "metadata": {},
     "output_type": "execute_result"
    },
    {
     "data": {
      "image/png": "[encoded data removed]",
      "text/plain": [
       "<Figure size 423x360 with 1 Axes>"
      ]
     },
     "metadata": {
      "needs_background": "light"
     },
     "output_type": "display_data"
    }
   ],
   "source": [
    "sns.relplot(data=X_train_scaled, x='land_tax', y=y_train.logerror, hue='cluster_tax')"
   ]
  },
  {
   "cell_type": "markdown",
   "id": "15bdd433",
   "metadata": {},
   "source": [
    "Cluster 2"
   ]
  },
  {
   "cell_type": "markdown",
   "id": "bc6aa7fe",
   "metadata": {},
   "source": [
    "This cluster is harder see, it is pretty muddled and I cant make out many groupings."
   ]
  },
  {
   "cell_type": "code",
   "execution_count": 12,
   "id": "17c1a8ad",
   "metadata": {},
   "outputs": [
    {
     "data": {
      "text/plain": [
       "array([4, 2, 3, ..., 1, 2, 1], dtype=int32)"
      ]
     },
     "execution_count": 12,
     "metadata": {},
     "output_type": "execute_result"
    }
   ],
   "source": [
    "X1 = X_train_scaled[['latitude', 'longitude', 'cola', 'acres_bin', 'finished_sqft']]\n",
    "X2 = X_validate_scaled[['latitude', 'longitude', 'cola', 'acres_bin', 'finished_sqft']]\n",
    "X3 = X_test_scaled[['latitude', 'longitude', 'cola', 'acres_bin', 'finished_sqft']]\n",
    "# Make the kmeans object\n",
    "kmeans = KMeans(n_clusters=6)\n",
    "# fit the kmeans model\n",
    "kmeans.fit(X1)\n",
    "kmeans.predict(X1)"
   ]
  },
  {
   "cell_type": "code",
   "execution_count": 13,
   "id": "4e0d2f9d",
   "metadata": {},
   "outputs": [],
   "source": [
    "X_train_scaled['cluster_sca'] = kmeans.predict(X1)\n",
    "X_validate_scaled['cluster_sca'] = kmeans.predict(X2) # fit on validate and test\n",
    "X_test_scaled['cluster_sca'] = kmeans.predict(X3)"
   ]
  },
  {
   "cell_type": "code",
   "execution_count": null,
   "id": "75f91930",
   "metadata": {},
   "outputs": [],
   "source": [
    "sns.relplot(data=X_train_scaled, x='finished_sqft', y=y_train.logerror, hue='cluster_sca')"
   ]
  },
  {
   "cell_type": "markdown",
   "id": "bb52af03",
   "metadata": {},
   "source": [
    "Cluster 3"
   ]
  },
  {
   "cell_type": "markdown",
   "id": "b2ee5a0c",
   "metadata": {},
   "source": [
    "This cluster is slightly muddled but I can see groupings. There are some outliers but generally the older the house the less logerror."
   ]
  },
  {
   "cell_type": "code",
   "execution_count": 14,
   "id": "95cc066a",
   "metadata": {},
   "outputs": [
    {
     "data": {
      "text/plain": [
       "array([0, 0, 1, ..., 1, 1, 1], dtype=int32)"
      ]
     },
     "execution_count": 14,
     "metadata": {},
     "output_type": "execute_result"
    }
   ],
   "source": [
    "X1 = X_train_scaled[['age', 'acres_bin', 'dollar_per_sqft']]\n",
    "X2 = X_validate_scaled[['age', 'acres_bin', 'dollar_per_sqft']]\n",
    "X3 = X_test_scaled[['age', 'acres_bin', 'dollar_per_sqft']]\n",
    "# Make the kmeans object\n",
    "kmeans = KMeans(n_clusters=3)\n",
    "# fit the kmeans model\n",
    "kmeans.fit(X1)\n",
    "kmeans.predict(X1)"
   ]
  },
  {
   "cell_type": "code",
   "execution_count": null,
   "id": "3f1b9635",
   "metadata": {},
   "outputs": [],
   "source": [
    "X_train_scaled['cluster_age'] = kmeans.predict(X1)\n",
    "X_validate_scaled['cluster_age'] = kmeans.predict(X2)\n",
    "X_test_scaled['cluster_age'] = kmeans.predict(X3)"
   ]
  },
  {
   "cell_type": "code",
   "execution_count": null,
   "id": "194472ed",
   "metadata": {},
   "outputs": [],
   "source": [
    "sns.relplot(data=X_train_scaled, x='age', y=y_train.logerror, hue='cluster_age')"
   ]
  },
  {
   "cell_type": "markdown",
   "id": "8a7d0a61",
   "metadata": {},
   "source": [
    "## Modeling"
   ]
  },
  {
   "cell_type": "markdown",
   "id": "501fcb70",
   "metadata": {},
   "source": [
    "We used SelectKBest to pick the top three features (Finished_sqft, dollar_per_sqft, county_Orange) to put into our models. Then split the data into X and Y variables, putting logerror into Y. \n",
    "\n",
    "The models made:\n",
    "\n",
    "- Random forest\n",
    "\n",
    "- Decision tree\n",
    "\n",
    "- Linear regression\n",
    "\n",
    "Cluster 2 was dropped as it did not add much value. A predictions df was also made for the models."
   ]
  },
  {
   "cell_type": "code",
   "execution_count": null,
   "id": "e0088449",
   "metadata": {},
   "outputs": [],
   "source": [
    "X_train_scaled = X_train_scaled.drop('cluster_sca', axis=1)# drop cluster 2\n",
    "X_validate_scaled = X_validate_scaled.drop('cluster_sca', axis=1)\n",
    "X_test_scaled = X_test_scaled.drop('cluster_sca', axis=1)"
   ]
  },
  {
   "cell_type": "code",
   "execution_count": null,
   "id": "73d77bd3",
   "metadata": {},
   "outputs": [],
   "source": [
    "kbest = SelectKBest(f_regression, k=3) #select 3 features\n",
    "kbest.fit(X_train_scaled, y_train)\n",
    "kbest_results = pd.DataFrame(dict(p=kbest.pvalues_, f=kbest.scores_), index=X_train_scaled.columns)"
   ]
  },
  {
   "cell_type": "code",
   "execution_count": null,
   "id": "29bc979f",
   "metadata": {},
   "outputs": [],
   "source": [
    "X_train_scaled.columns[kbest.get_support()]\n",
    "\n",
    "X_train_transformed = pd.DataFrame(\n",
    "    kbest.transform(X_train_scaled),\n",
    "    index=X_train_scaled.index,\n",
    "    columns=X_train_scaled.columns[kbest.get_support()]\n",
    ")\n",
    "X_train_transformed.head()"
   ]
  },
  {
   "cell_type": "code",
   "execution_count": null,
   "id": "87d7ae94",
   "metadata": {},
   "outputs": [],
   "source": [
    "# Splitting out X and Y variables for modeling\n",
    "X_train = X_train_scaled[['finished_sqft','dollar_per_sqft','county_Orange']]\n",
    "y_train = y_train[['logerror']]\n",
    "\n",
    "X_validate = X_validate_scaled[['finished_sqft','dollar_per_sqft','county_Orange']]\n",
    "y_validate = y_validate[['logerror']]\n",
    "\n",
    "X_test = X_test_scaled[['finished_sqft','dollar_per_sqft','county_Orange']]\n",
    "y_test = y_test[['logerror']]"
   ]
  },
  {
   "cell_type": "code",
   "execution_count": null,
   "id": "63d2b6c0",
   "metadata": {},
   "outputs": [],
   "source": [
    "# Creating a dataframe of the actual log errors for comparision throughout modeling process\n",
    "predictions = y_train[['logerror']]\n",
    "predictions.head()"
   ]
  },
  {
   "cell_type": "code",
   "execution_count": null,
   "id": "25e87656",
   "metadata": {
    "scrolled": true
   },
   "outputs": [],
   "source": [
    "# Creating a baseline model\n",
    "y_train['mean_logerror'] = y_train.logerror.mean()\n",
    "rmse_baseline = np.sqrt(mean_squared_error(y_train.logerror, y_train.mean_logerror))\n",
    "\n",
    "predictions['rsme_baseline'] = ('{:.4f}'.format(rmse_baseline))\n",
    "print('This is the baseline dataset model performance')\n",
    "print(f'RSME = {rmse_baseline:.4f}')"
   ]
  },
  {
   "cell_type": "code",
   "execution_count": null,
   "id": "ba5ad24a",
   "metadata": {},
   "outputs": [],
   "source": [
    "y_train = y_train.drop('mean_logerror', axis=1)"
   ]
  },
  {
   "cell_type": "code",
   "execution_count": null,
   "id": "84ac97fe",
   "metadata": {},
   "outputs": [],
   "source": [
    "regressor = RandomForestRegressor(max_depth = 2, random_state=121, n_estimators=100)\n",
    "regressor.fit(X_train, y_train)\n",
    "y_pred = regressor.predict(X_train)\n",
    "\n",
    "rf_train = np.sqrt(mean_squared_error(y_train, y_pred))\n",
    "predictions['rf'] = ('{:.4f}'.format(rf_train))\n",
    "print('This is the train dataset model performance')\n",
    "print(f'RSME = {rf_train:.4f}')"
   ]
  },
  {
   "cell_type": "code",
   "execution_count": null,
   "id": "3b7bd9ee",
   "metadata": {},
   "outputs": [],
   "source": [
    "regressor2 = RandomForestRegressor(max_depth = 4, random_state=121, n_estimators=100)\n",
    "regressor2.fit(X_train, y_train)\n",
    "y_pred = regressor2.predict(X_train)\n",
    "\n",
    "rf2_train = np.sqrt(mean_squared_error(y_train, y_pred))\n",
    "predictions['rf2'] = ('{:.4f}'.format(rf2_train))\n",
    "print('This is the train dataset model performance')\n",
    "print(f'RSME = {rf2_train:.4f}')"
   ]
  },
  {
   "cell_type": "code",
   "execution_count": null,
   "id": "254052bc",
   "metadata": {},
   "outputs": [],
   "source": [
    "regressor3 = DecisionTreeRegressor(max_depth = 5, random_state=121)\n",
    "regressor3.fit(X_train, y_train)\n",
    "y_pred = regressor3.predict(X_train)\n",
    "\n",
    "dt_train = np.sqrt(mean_squared_error(y_train, y_pred))\n",
    "predictions['dt'] = ('{:.4f}'.format(dt_train))\n",
    "print('This is the train dataset model performance')\n",
    "print(f'RSME = {dt_train:.4f}')"
   ]
  },
  {
   "cell_type": "code",
   "execution_count": null,
   "id": "542b71a7",
   "metadata": {},
   "outputs": [],
   "source": [
    "lm = LinearRegression()\n",
    "# Fitting the data to model\n",
    "lm.fit(X_train, y_train)\n",
    "\n",
    "y_pred = lm.predict(X_train)\n",
    "lm_train = np.sqrt(mean_squared_error(y_train, y_pred))\n",
    "predictions['lm'] = ('{:.4f}'.format(lm_train))\n",
    "print('This is the train dataset model performance')\n",
    "print(f'RSME = {lm_train:.4f}')"
   ]
  },
  {
   "cell_type": "markdown",
   "id": "a4f24754",
   "metadata": {},
   "source": [
    "Testing on Validate"
   ]
  },
  {
   "cell_type": "code",
   "execution_count": null,
   "id": "1267ced1",
   "metadata": {
    "scrolled": true
   },
   "outputs": [],
   "source": [
    "y_pred = lm.predict(X_validate) # fit to validate\n",
    "lm_validate = np.sqrt(mean_squared_error(y_validate, y_pred))\n",
    "predictions['lm_validate'] = ('{:.4f}'.format(lm_validate)) # put prediction into df\n",
    "\n",
    "y_pred = regressor.predict(X_validate)\n",
    "rf_validate = np.sqrt(mean_squared_error(y_validate, y_pred))\n",
    "predictions['rf_validate'] = ('{:.4f}'.format(rf_validate))\n",
    "\n",
    "y_pred = regressor2.predict(X_validate)\n",
    "rf2_validate = np.sqrt(mean_squared_error(y_validate, y_pred))\n",
    "predictions['rf2_validate'] = ('{:.4f}'.format(rf2_validate))\n",
    "\n",
    "y_pred = regressor3.predict(X_validate)\n",
    "dt_validate = np.sqrt(mean_squared_error(y_validate, y_pred))\n",
    "predictions['dt_validate'] = ('{:.4f}'.format(dt_validate))"
   ]
  },
  {
   "cell_type": "code",
   "execution_count": null,
   "id": "4901c6b0",
   "metadata": {},
   "outputs": [],
   "source": [
    "predictions.head()"
   ]
  },
  {
   "cell_type": "markdown",
   "id": "45cdc737",
   "metadata": {},
   "source": [
    "All of the models performed similarly and did not quite beat the baseline on train data. All of the models did beat the baseline on the validate set, with Decision Tree at a max depth of 5 preformed the highest but did not preform well on train.\n"
   ]
  },
  {
   "cell_type": "code",
   "execution_count": null,
   "id": "8c98e1ab",
   "metadata": {},
   "outputs": [],
   "source": [
    "# Model on test\n",
    "y_pred = regressor3.predict(X_test)\n",
    "dt_test = np.sqrt(mean_squared_error(y_test, y_pred))\n",
    "# put into df\n",
    "predictions['dt_test'] = ('{:.4f}'.format(dt_test))\n",
    "predictions.head()"
   ]
  },
  {
   "cell_type": "markdown",
   "id": "fde31e74",
   "metadata": {},
   "source": [
    "## Conclusion\n",
    "\n",
    "The three best features were finished_sqft, dollar_per_sqft, county_Orange.\n",
    "\n",
    "The main featured used seemed to focue on location, cost and size. \n",
    "\n",
    "Tax and home value have higher than average log error. \n",
    "\n",
    "Clusters were not significant, did not improve modeling.\n",
    "\n",
    "We observed some statistical difference between log error with regards to these features:\n",
    "\n",
    "- Longitude/Latitude\n",
    "- Lot size\n",
    "- Square footage\n",
    "- Age of the home\n",
    "\n",
    "\n",
    "### Next steps:\n",
    "\n",
    "More information about the area of the homes would be valuble like ISD. Since value affects logerror getting information on homeowners, maybe income, could be used as a variable for clustering."
   ]
  }
 ],
 "metadata": {
  "kernelspec": {
   "display_name": "Python 3 (ipykernel)",
   "language": "python",
   "name": "python3"
  },
  "language_info": {
   "codemirror_mode": {
    "name": "ipython",
    "version": 3
   },
   "file_extension": ".py",
   "mimetype": "text/x-python",
   "name": "python",
   "nbconvert_exporter": "python",
   "pygments_lexer": "ipython3",
   "version": "3.9.12"
  }
 },
 "nbformat": 4,
 "nbformat_minor": 5
}
